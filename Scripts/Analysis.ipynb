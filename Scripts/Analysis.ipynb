{
 "cells": [
  {
   "cell_type": "code",
   "execution_count": 1,
   "metadata": {},
   "outputs": [],
   "source": [
    "import psycopg2\n",
    "import pandas as pd \n",
    "\n",
    "conn = psycopg2.connect(user=\"postgres\",password=\"1234\",\n",
    "                              host=\"localhost\",\n",
    "                              port=\"5432\",\n",
    "                              database=\"stage\")\n",
    "\n",
    "cur = conn.cursor()\n",
    "df=pd.read_sql('''SELECT d.patient_key,e.date_examination_full ,date_diagnostic \n",
    "               FROM public.fact_clinical_measures_1 f,public.dim_patient d,public.dim_date_examination e\n",
    "               where f.patient_key = d.patient_key  and f.date_examination_key= e.date_examination_key and date_diagnostic not like %s ''',conn,params=(\"ND\",))"
   ]
  },
  {
   "cell_type": "code",
   "execution_count": 2,
   "metadata": {},
   "outputs": [],
   "source": [
    "x=df.groupby('patient_key')['date_examination_full'].apply(list).reset_index(name='date_exam_list')"
   ]
  },
  {
   "cell_type": "code",
   "execution_count": 3,
   "metadata": {},
   "outputs": [],
   "source": [
    "df = df.drop('date_examination_full', 1)\n",
    "df=df.drop_duplicates(subset='patient_key', keep=\"last\")"
   ]
  },
  {
   "cell_type": "code",
   "execution_count": 4,
   "metadata": {},
   "outputs": [],
   "source": [
    "data=x.merge(df,how='outer',left_on=['patient_key'],right_on=['patient_key'])\n",
    "data[\"count\"]=0"
   ]
  },
  {
   "cell_type": "code",
   "execution_count": 5,
   "metadata": {},
   "outputs": [],
   "source": [
    "for index,row in data.iterrows():\n",
    "    count=0\n",
    "    for j in row['date_exam_list']:\n",
    "        if j >=row['date_diagnostic']:\n",
    "            count=count+1\n",
    "    data.set_value(index,'count',count)\n",
    "        \n",
    "    "
   ]
  },
  {
   "cell_type": "code",
   "execution_count": 6,
   "metadata": {},
   "outputs": [],
   "source": [
    "data.to_csv(\"D:/StageMai2019/Project/Analysis/analysis.csv\", encoding='utf-8',index=False)"
   ]
  },
  {
   "cell_type": "code",
   "execution_count": 7,
   "metadata": {},
   "outputs": [],
   "source": [
    "date1 = \"31/12/2015\"\n",
    "time.strptime(date1, \"%d/%m/%Y\")"
   ]
  },
  {
   "cell_type": "code",
   "execution_count": 8,
   "metadata": {},
   "outputs": [],
   "source": [
    "import time\n",
    "\n",
    "for index,row in data.iterrows():\n",
    "    count=0\n",
    "    for j in row['date_exam_list']:\n",
    "        if time.strptime(j, \"%d/%m/%Y\") >= time.strptime(row['date_diagnostic'], \"%d/%m/%Y\"):\n",
    "            count=count+1\n",
    "    data.set_value(index,'count',count)\n",
    "        time.strptime(date1, \"%d/%m/%Y\")\n",
    "    "
   ]
  },
  {
   "cell_type": "code",
   "execution_count": 9,
   "metadata": {},
   "outputs": [],
   "source": [
    "import time\n",
    "\n",
    "for index,row in data.iterrows():\n",
    "    count=0\n",
    "    for j in row['date_exam_list']:\n",
    "        if time.strptime(j, \"%d/%m/%Y\") >= time.strptime(row['date_diagnostic'], \"%d/%m/%Y\"):\n",
    "            count=count+1\n",
    "    data.set_value(index,'count',count)\n",
    "    "
   ]
  },
  {
   "cell_type": "code",
   "execution_count": 10,
   "metadata": {},
   "outputs": [],
   "source": [
    "data.to_csv(\"D:/StageMai2019/Project/Analysis/analysis.csv\", encoding='utf-8',index=False)"
   ]
  }
 ],
 "metadata": {},
 "nbformat": 4,
 "nbformat_minor": 2
}
